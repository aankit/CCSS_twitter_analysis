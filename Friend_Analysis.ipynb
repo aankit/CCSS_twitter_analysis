{
 "metadata": {
  "name": "",
  "signature": "sha256:a2e5527a133587aeb5242a25faec23a666a1a4097d1e0b062d04d17dfb8c5b03"
 },
 "nbformat": 3,
 "nbformat_minor": 0,
 "worksheets": [
  {
   "cells": [
    {
     "cell_type": "code",
     "collapsed": false,
     "input": [
      "from tweetsql.model import UserData, User, Friend, Tweet\n",
      "from tweetsql.database import Base, db_session, engine\n",
      "import pickle\n",
      "from collections import Counter"
     ],
     "language": "python",
     "metadata": {},
     "outputs": [],
     "prompt_number": 1
    },
    {
     "cell_type": "code",
     "collapsed": false,
     "input": [
      "users = db_session.query(User.id, Tweet.id).join(Tweet.user).all()\n",
      "print 'users retrieved'\n",
      "tweet_counter = Counter()\n",
      "tweet_counter.update([uid for uid, tid in users])\n",
      "top_users = set([u for u, n in tweet_counter.items() if tweet_counter[n]>3])\n",
      "# top_user_friends = set()\n",
      "# for obj in db_session.query(User.screen_name, Friend.friend_id)\\\n",
      "#     .join(Friend.user)\\\n",
      "#     .filter(Friend.user_id.in_(top_users)).yield_per(100):\n",
      "#         top_user_friends.add(obj)\n",
      "# print 'done with queries'\n",
      "# print len(top_user_friends)"
     ],
     "language": "python",
     "metadata": {},
     "outputs": [
      {
       "output_type": "stream",
       "stream": "stdout",
       "text": [
        "users retrieved\n"
       ]
      }
     ],
     "prompt_number": 39
    },
    {
     "cell_type": "code",
     "collapsed": false,
     "input": [
      "len(top_users)"
     ],
     "language": "python",
     "metadata": {},
     "outputs": [
      {
       "metadata": {},
       "output_type": "pyout",
       "prompt_number": 40,
       "text": [
        "16577"
       ]
      }
     ],
     "prompt_number": 40
    },
    {
     "cell_type": "code",
     "collapsed": false,
     "input": [
      "user_friends = list(top_user_friends)"
     ],
     "language": "python",
     "metadata": {},
     "outputs": [],
     "prompt_number": 5
    },
    {
     "cell_type": "code",
     "collapsed": false,
     "input": [
      "user_friends[19000000]"
     ],
     "language": "python",
     "metadata": {},
     "outputs": [
      {
       "metadata": {},
       "output_type": "pyout",
       "prompt_number": 7,
       "text": [
        "(u'JdFarmer55', u'2260808293')"
       ]
      }
     ],
     "prompt_number": 7
    },
    {
     "cell_type": "code",
     "collapsed": false,
     "input": [
      "import pandas as pd\n",
      "df = pd.DataFrame(user_friends, columns=['screen_name', 'friend_id'])"
     ],
     "language": "python",
     "metadata": {},
     "outputs": [],
     "prompt_number": 8
    },
    {
     "cell_type": "code",
     "collapsed": false,
     "input": [
      "user_ids = db_session.query(User.uid).all()"
     ],
     "language": "python",
     "metadata": {},
     "outputs": [],
     "prompt_number": 22
    },
    {
     "cell_type": "code",
     "collapsed": false,
     "input": [
      "user_ids = [u for u, in user_ids]"
     ],
     "language": "python",
     "metadata": {},
     "outputs": [],
     "prompt_number": 26
    },
    {
     "cell_type": "code",
     "collapsed": false,
     "input": [
      "user_connections = []\n",
      "for usr_scn, fi in user_friends:\n",
      "    if fi in user_ids:\n",
      "        try:\n",
      "            fr_scn = db_session.query(User.screen_name).filter(User.uid==fi).one()\n",
      "            user_connections.append((usr_scn, fr_scn.screen_name))\n",
      "        except MultipleResultsFound:\n",
      "            print 'multiple results found'\n",
      "            break\n",
      "        except NoResultFound:\n",
      "            print 'not in user table'\n",
      "            break\n",
      "            \n",
      "        "
     ],
     "language": "python",
     "metadata": {},
     "outputs": [],
     "prompt_number": 30
    },
    {
     "cell_type": "code",
     "collapsed": false,
     "input": [
      "len(user_connections)"
     ],
     "language": "python",
     "metadata": {},
     "outputs": [
      {
       "metadata": {},
       "output_type": "pyout",
       "prompt_number": 31,
       "text": [
        "1213903"
       ]
      }
     ],
     "prompt_number": 31
    },
    {
     "cell_type": "code",
     "collapsed": false,
     "input": [
      "user_connections[0]"
     ],
     "language": "python",
     "metadata": {},
     "outputs": [
      {
       "metadata": {},
       "output_type": "pyout",
       "prompt_number": 32,
       "text": [
        "(u'michelekirkBPR', u'eddiewynn7')"
       ]
      }
     ],
     "prompt_number": 32
    },
    {
     "cell_type": "code",
     "collapsed": false,
     "input": [
      "import networkx as nx\n",
      "\n",
      "def graph_add_node(n, g, params):\n",
      "    \n",
      "    try:\n",
      "        if g.has_node(n):\n",
      "            g.node[n]['weight']+=1\n",
      "        else:\n",
      "            g.add_node(n)\n",
      "            g.node[n]['weight'] = 1\n",
      "            for k,v in params.items():\n",
      "                g.node[n][k]=v\n",
      "    except:\n",
      "        return\n",
      "            \n",
      "def graph_add_edge(n1, n2, g):\n",
      "    if g.has_edge(n1, n2):\n",
      "        g[n1][n2]['weight']+=1\n",
      "    else:\n",
      "        g.add_edge(n1,n2)\n",
      "        g[n1][n2]['weight']=1"
     ],
     "language": "python",
     "metadata": {},
     "outputs": [],
     "prompt_number": 34
    },
    {
     "cell_type": "code",
     "collapsed": false,
     "input": [
      "social_ties = nx.DiGraph()\n",
      "for user, friend in user_connections:\n",
      "    graph_add_node(user, social_ties, {'side': 'user'})\n",
      "    graph_add_node(friend, social_ties, {'side': 'friend'})\n",
      "    graph_add_edge(user, friend, social_ties)"
     ],
     "language": "python",
     "metadata": {},
     "outputs": [],
     "prompt_number": 35
    },
    {
     "cell_type": "code",
     "collapsed": false,
     "input": [
      "print \"nodes: %d\" %social_ties.number_of_nodes()\n",
      "print \"edges: %d\" %social_ties.number_of_edges()"
     ],
     "language": "python",
     "metadata": {},
     "outputs": [
      {
       "output_type": "stream",
       "stream": "stdout",
       "text": [
        "nodes: 18597\n",
        "edges: 1213903"
       ]
      },
      {
       "output_type": "stream",
       "stream": "stdout",
       "text": [
        "\n"
       ]
      }
     ],
     "prompt_number": 36
    },
    {
     "cell_type": "code",
     "collapsed": false,
     "input": [
      "nx.write_gexf(social_ties, '%s_tweet_graph.gexf' %'social_ties')\n",
      "print '%s_tweet_graph.gexf' %'social_ties'"
     ],
     "language": "python",
     "metadata": {},
     "outputs": [
      {
       "output_type": "stream",
       "stream": "stdout",
       "text": [
        "social_ties_tweet_graph.gexf\n"
       ]
      }
     ],
     "prompt_number": 37
    },
    {
     "cell_type": "code",
     "collapsed": false,
     "input": [],
     "language": "python",
     "metadata": {},
     "outputs": []
    }
   ],
   "metadata": {}
  }
 ]
}